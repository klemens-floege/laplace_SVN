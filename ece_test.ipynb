{
 "cells": [
  {
   "cell_type": "code",
   "execution_count": 1,
   "metadata": {},
   "outputs": [],
   "source": [
    "import torch\n",
    "def compute_ece(probabilities, labels, num_bins=20, div_factor=None):\n",
    "\n",
    "    labels = torch.as_tensor(labels)\n",
    "    confidences = torch.max(probabilities, dim=1)[0]\n",
    "\n",
    "    #device checker\n",
    "    if labels.device != probabilities.device:\n",
    "        labels = labels.to(probabilities.device)\n",
    "\n",
    "    denom = confidences.shape[0]\n",
    "    if div_factor is not None:\n",
    "       denom = div_factor\n",
    "\n",
    "    predictions = torch.argmax(probabilities, dim=1)\n",
    "    #accuracies = predictions == labels\n",
    "    accuracies = predictions.eq(labels)\n",
    "\n",
    "    bin_boundaries = torch.linspace(0, 1, num_bins+1)\n",
    "    ece = 0.0\n",
    "    for bin_lower, bin_upper in zip(bin_boundaries[:-1], bin_boundaries[1:]):\n",
    "        # samples in current bin\n",
    "        in_bin = (confidences > bin_lower) & (confidences <= bin_upper)\n",
    "        bin_size = torch.sum(in_bin).item()\n",
    "        if bin_size > 0:\n",
    "            accuracy_in_bin = torch.mean(accuracies[in_bin].float()).item()\n",
    "            confidence_in_bin = torch.mean(confidences[in_bin]).item()\n",
    "            ece += abs(accuracy_in_bin - confidence_in_bin) * (bin_size / denom)\n",
    "    return ece"
   ]
  },
  {
   "cell_type": "code",
   "execution_count": 4,
   "metadata": {},
   "outputs": [],
   "source": [
    "import numpy as np\n",
    "\n",
    "# Binary Classification\n",
    "samples = np.array([[0.78, 0.22],\n",
    "                    [0.36, 0.64],\n",
    "                    [0.08, 0.92],\n",
    "                    [0.58, 0.42],\n",
    "                    [0.49, 0.51],\n",
    "                    [0.85, 0.15],\n",
    "                    [0.30, 0.70],\n",
    "                    [0.63, 0.37],\n",
    "                    [0.17, 0.83]])\n",
    "\n",
    "true_labels = np.array([0,1,0,0,0,0,1,1,1])\n",
    "samples = torch.tensor(samples)\n",
    "true_labels = torch.tensor(true_labels)"
   ]
  },
  {
   "cell_type": "code",
   "execution_count": 11,
   "metadata": {},
   "outputs": [
    {
     "data": {
      "text/plain": [
       "0.10444443782170612"
      ]
     },
     "execution_count": 11,
     "metadata": {},
     "output_type": "execute_result"
    }
   ],
   "source": [
    "compute_ece(samples, true_labels, num_bins=5)"
   ]
  },
  {
   "cell_type": "code",
   "execution_count": 7,
   "metadata": {},
   "outputs": [],
   "source": [
    "samples_multi = np.array([[0.25,0.2,0.22,0.18,0.15],\n",
    "                          [0.16,0.06,0.5,0.07,0.21],\n",
    "                          [0.06,0.03,0.8,0.07,0.04],\n",
    "                          [0.02,0.03,0.01,0.04,0.9],\n",
    "                          [0.4,0.15,0.16,0.14,0.15],\n",
    "                          [0.15,0.28,0.18,0.17,0.22],\n",
    "                          [0.07,0.8,0.03,0.06,0.04],\n",
    "                          [0.1,0.05,0.03,0.75,0.07],\n",
    "                          [0.25,0.22,0.05,0.3,0.18],\n",
    "                          [0.12,0.09,0.02,0.17,0.6]])\n",
    "\n",
    "true_labels_multi = np.array([0,2,3,4,2,0,1,3,3,2])\n",
    "\n",
    "samples_multi = torch.tensor(samples_multi)\n",
    "true_labels_multi = torch.tensor(true_labels_multi)"
   ]
  },
  {
   "cell_type": "code",
   "execution_count": 10,
   "metadata": {},
   "outputs": [
    {
     "data": {
      "text/plain": [
       "0.13199999403953555"
      ]
     },
     "execution_count": 10,
     "metadata": {},
     "output_type": "execute_result"
    }
   ],
   "source": [
    "compute_ece(samples_multi, true_labels_multi, num_bins=5)"
   ]
  }
 ],
 "metadata": {
  "kernelspec": {
   "display_name": "env",
   "language": "python",
   "name": "python3"
  },
  "language_info": {
   "codemirror_mode": {
    "name": "ipython",
    "version": 3
   },
   "file_extension": ".py",
   "mimetype": "text/x-python",
   "name": "python",
   "nbconvert_exporter": "python",
   "pygments_lexer": "ipython3",
   "version": "3.11.5"
  }
 },
 "nbformat": 4,
 "nbformat_minor": 2
}
