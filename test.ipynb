{
 "cells": [
  {
   "cell_type": "code",
   "execution_count": null,
   "metadata": {},
   "outputs": [],
   "source": []
  },
  {
   "cell_type": "code",
   "execution_count": 1,
   "metadata": {},
   "outputs": [],
   "source": [
    "import torch"
   ]
  },
  {
   "cell_type": "code",
   "execution_count": 11,
   "metadata": {},
   "outputs": [],
   "source": [
    "a = torch.zeros(2, 2, 3, 3)"
   ]
  },
  {
   "cell_type": "code",
   "execution_count": 12,
   "metadata": {},
   "outputs": [
    {
     "data": {
      "text/plain": [
       "tensor([[[[0., 0., 0.],\n",
       "          [0., 0., 0.],\n",
       "          [0., 0., 0.]],\n",
       "\n",
       "         [[0., 0., 0.],\n",
       "          [0., 0., 0.],\n",
       "          [0., 0., 0.]]],\n",
       "\n",
       "\n",
       "        [[[0., 0., 0.],\n",
       "          [0., 0., 0.],\n",
       "          [0., 0., 0.]],\n",
       "\n",
       "         [[0., 0., 0.],\n",
       "          [0., 0., 0.],\n",
       "          [0., 0., 0.]]]])"
      ]
     },
     "execution_count": 12,
     "metadata": {},
     "output_type": "execute_result"
    }
   ],
   "source": [
    "a"
   ]
  },
  {
   "cell_type": "code",
   "execution_count": 13,
   "metadata": {},
   "outputs": [
    {
     "data": {
      "text/plain": [
       "torch.Size([2, 2, 3, 3])"
      ]
     },
     "execution_count": 13,
     "metadata": {},
     "output_type": "execute_result"
    }
   ],
   "source": [
    "a.shape"
   ]
  },
  {
   "cell_type": "code",
   "execution_count": 15,
   "metadata": {},
   "outputs": [],
   "source": [
    "b = torch.ones(2, 3, 3)"
   ]
  },
  {
   "cell_type": "code",
   "execution_count": 19,
   "metadata": {},
   "outputs": [
    {
     "data": {
      "text/plain": [
       "tensor([[[1., 1., 1.],\n",
       "         [1., 1., 1.],\n",
       "         [1., 1., 1.]],\n",
       "\n",
       "        [[1., 1., 1.],\n",
       "         [1., 1., 1.],\n",
       "         [1., 1., 1.]]])"
      ]
     },
     "execution_count": 19,
     "metadata": {},
     "output_type": "execute_result"
    }
   ],
   "source": [
    "b"
   ]
  },
  {
   "cell_type": "code",
   "execution_count": null,
   "metadata": {},
   "outputs": [],
   "source": []
  },
  {
   "cell_type": "code",
   "execution_count": null,
   "metadata": {},
   "outputs": [],
   "source": []
  },
  {
   "cell_type": "code",
   "execution_count": 17,
   "metadata": {},
   "outputs": [],
   "source": [
    "a[range(2), range(2)] += b"
   ]
  },
  {
   "cell_type": "code",
   "execution_count": 18,
   "metadata": {},
   "outputs": [
    {
     "data": {
      "text/plain": [
       "tensor([[[[1., 1., 1.],\n",
       "          [1., 1., 1.],\n",
       "          [1., 1., 1.]],\n",
       "\n",
       "         [[0., 0., 0.],\n",
       "          [0., 0., 0.],\n",
       "          [0., 0., 0.]]],\n",
       "\n",
       "\n",
       "        [[[0., 0., 0.],\n",
       "          [0., 0., 0.],\n",
       "          [0., 0., 0.]],\n",
       "\n",
       "         [[1., 1., 1.],\n",
       "          [1., 1., 1.],\n",
       "          [1., 1., 1.]]]])"
      ]
     },
     "execution_count": 18,
     "metadata": {},
     "output_type": "execute_result"
    }
   ],
   "source": [
    "a"
   ]
  },
  {
   "cell_type": "code",
   "execution_count": 20,
   "metadata": {},
   "outputs": [
    {
     "data": {
      "text/plain": [
       "torch.Size([2, 2, 3, 3])"
      ]
     },
     "execution_count": 20,
     "metadata": {},
     "output_type": "execute_result"
    }
   ],
   "source": [
    "a.shape"
   ]
  },
  {
   "cell_type": "code",
   "execution_count": 21,
   "metadata": {},
   "outputs": [
    {
     "data": {
      "text/plain": [
       "tensor([[[[1., 1., 1.],\n",
       "          [0., 0., 0.]],\n",
       "\n",
       "         [[1., 1., 1.],\n",
       "          [0., 0., 0.]],\n",
       "\n",
       "         [[1., 1., 1.],\n",
       "          [0., 0., 0.]]],\n",
       "\n",
       "\n",
       "        [[[0., 0., 0.],\n",
       "          [1., 1., 1.]],\n",
       "\n",
       "         [[0., 0., 0.],\n",
       "          [1., 1., 1.]],\n",
       "\n",
       "         [[0., 0., 0.],\n",
       "          [1., 1., 1.]]]])"
      ]
     },
     "execution_count": 21,
     "metadata": {},
     "output_type": "execute_result"
    }
   ],
   "source": [
    "N, _, D, _ = a.shape\n",
    "a.permute(0, 2, 1, 3)"
   ]
  },
  {
   "cell_type": "code",
   "execution_count": null,
   "metadata": {},
   "outputs": [],
   "source": [
    "path = 'data/kni8nm/dataset_2175_kin8nm.arff'\n"
   ]
  },
  {
   "cell_type": "code",
   "execution_count": 1,
   "metadata": {},
   "outputs": [
    {
     "ename": "AttributeError",
     "evalue": "Can only use .str accessor with string values!",
     "output_type": "error",
     "traceback": [
      "\u001b[0;31m---------------------------------------------------------------------------\u001b[0m",
      "\u001b[0;31mAttributeError\u001b[0m                            Traceback (most recent call last)",
      "Cell \u001b[0;32mIn[1], line 29\u001b[0m\n\u001b[1;32m     26\u001b[0m excel_path \u001b[38;5;241m=\u001b[39m \u001b[38;5;124m'\u001b[39m\u001b[38;5;124moutput_dataset.xls\u001b[39m\u001b[38;5;124m'\u001b[39m\n\u001b[1;32m     28\u001b[0m \u001b[38;5;66;03m# Call the function\u001b[39;00m\n\u001b[0;32m---> 29\u001b[0m \u001b[43mconvert_arff_to_excel_csv\u001b[49m\u001b[43m(\u001b[49m\u001b[43mpath\u001b[49m\u001b[43m,\u001b[49m\u001b[43m \u001b[49m\u001b[43mcsv_path\u001b[49m\u001b[43m,\u001b[49m\u001b[43m \u001b[49m\u001b[43mexcel_path\u001b[49m\u001b[43m)\u001b[49m\n",
      "Cell \u001b[0;32mIn[1], line 13\u001b[0m, in \u001b[0;36mconvert_arff_to_excel_csv\u001b[0;34m(path, csv_path, excel_path)\u001b[0m\n\u001b[1;32m     11\u001b[0m \u001b[38;5;66;03m# Decode byte strings into normal strings (if needed)\u001b[39;00m\n\u001b[1;32m     12\u001b[0m str_df \u001b[38;5;241m=\u001b[39m df\u001b[38;5;241m.\u001b[39mselect_dtypes([\u001b[38;5;28mobject\u001b[39m])\n\u001b[0;32m---> 13\u001b[0m str_df \u001b[38;5;241m=\u001b[39m \u001b[43mstr_df\u001b[49m\u001b[38;5;241;43m.\u001b[39;49m\u001b[43mstack\u001b[49m\u001b[43m(\u001b[49m\u001b[43m)\u001b[49m\u001b[38;5;241;43m.\u001b[39;49m\u001b[43mstr\u001b[49m\u001b[38;5;241m.\u001b[39mdecode(\u001b[38;5;124m'\u001b[39m\u001b[38;5;124mutf-8\u001b[39m\u001b[38;5;124m'\u001b[39m)\u001b[38;5;241m.\u001b[39munstack()\n\u001b[1;32m     14\u001b[0m \u001b[38;5;28;01mfor\u001b[39;00m col \u001b[38;5;129;01min\u001b[39;00m str_df:\n\u001b[1;32m     15\u001b[0m     df[col] \u001b[38;5;241m=\u001b[39m str_df[col]\n",
      "File \u001b[0;32m~/Desktop/Dev/laplace_SVN/env/lib/python3.11/site-packages/pandas/core/generic.py:6204\u001b[0m, in \u001b[0;36mNDFrame.__getattr__\u001b[0;34m(self, name)\u001b[0m\n\u001b[1;32m   6197\u001b[0m \u001b[38;5;28;01mif\u001b[39;00m (\n\u001b[1;32m   6198\u001b[0m     name \u001b[38;5;129;01mnot\u001b[39;00m \u001b[38;5;129;01min\u001b[39;00m \u001b[38;5;28mself\u001b[39m\u001b[38;5;241m.\u001b[39m_internal_names_set\n\u001b[1;32m   6199\u001b[0m     \u001b[38;5;129;01mand\u001b[39;00m name \u001b[38;5;129;01mnot\u001b[39;00m \u001b[38;5;129;01min\u001b[39;00m \u001b[38;5;28mself\u001b[39m\u001b[38;5;241m.\u001b[39m_metadata\n\u001b[1;32m   6200\u001b[0m     \u001b[38;5;129;01mand\u001b[39;00m name \u001b[38;5;129;01mnot\u001b[39;00m \u001b[38;5;129;01min\u001b[39;00m \u001b[38;5;28mself\u001b[39m\u001b[38;5;241m.\u001b[39m_accessors\n\u001b[1;32m   6201\u001b[0m     \u001b[38;5;129;01mand\u001b[39;00m \u001b[38;5;28mself\u001b[39m\u001b[38;5;241m.\u001b[39m_info_axis\u001b[38;5;241m.\u001b[39m_can_hold_identifiers_and_holds_name(name)\n\u001b[1;32m   6202\u001b[0m ):\n\u001b[1;32m   6203\u001b[0m     \u001b[38;5;28;01mreturn\u001b[39;00m \u001b[38;5;28mself\u001b[39m[name]\n\u001b[0;32m-> 6204\u001b[0m \u001b[38;5;28;01mreturn\u001b[39;00m \u001b[38;5;28;43mobject\u001b[39;49m\u001b[38;5;241;43m.\u001b[39;49m\u001b[38;5;21;43m__getattribute__\u001b[39;49m\u001b[43m(\u001b[49m\u001b[38;5;28;43mself\u001b[39;49m\u001b[43m,\u001b[49m\u001b[43m \u001b[49m\u001b[43mname\u001b[49m\u001b[43m)\u001b[49m\n",
      "File \u001b[0;32m~/Desktop/Dev/laplace_SVN/env/lib/python3.11/site-packages/pandas/core/accessor.py:224\u001b[0m, in \u001b[0;36mCachedAccessor.__get__\u001b[0;34m(self, obj, cls)\u001b[0m\n\u001b[1;32m    221\u001b[0m \u001b[38;5;28;01mif\u001b[39;00m obj \u001b[38;5;129;01mis\u001b[39;00m \u001b[38;5;28;01mNone\u001b[39;00m:\n\u001b[1;32m    222\u001b[0m     \u001b[38;5;66;03m# we're accessing the attribute of the class, i.e., Dataset.geo\u001b[39;00m\n\u001b[1;32m    223\u001b[0m     \u001b[38;5;28;01mreturn\u001b[39;00m \u001b[38;5;28mself\u001b[39m\u001b[38;5;241m.\u001b[39m_accessor\n\u001b[0;32m--> 224\u001b[0m accessor_obj \u001b[38;5;241m=\u001b[39m \u001b[38;5;28;43mself\u001b[39;49m\u001b[38;5;241;43m.\u001b[39;49m\u001b[43m_accessor\u001b[49m\u001b[43m(\u001b[49m\u001b[43mobj\u001b[49m\u001b[43m)\u001b[49m\n\u001b[1;32m    225\u001b[0m \u001b[38;5;66;03m# Replace the property with the accessor object. Inspired by:\u001b[39;00m\n\u001b[1;32m    226\u001b[0m \u001b[38;5;66;03m# https://www.pydanny.com/cached-property.html\u001b[39;00m\n\u001b[1;32m    227\u001b[0m \u001b[38;5;66;03m# We need to use object.__setattr__ because we overwrite __setattr__ on\u001b[39;00m\n\u001b[1;32m    228\u001b[0m \u001b[38;5;66;03m# NDFrame\u001b[39;00m\n\u001b[1;32m    229\u001b[0m \u001b[38;5;28mobject\u001b[39m\u001b[38;5;241m.\u001b[39m\u001b[38;5;21m__setattr__\u001b[39m(obj, \u001b[38;5;28mself\u001b[39m\u001b[38;5;241m.\u001b[39m_name, accessor_obj)\n",
      "File \u001b[0;32m~/Desktop/Dev/laplace_SVN/env/lib/python3.11/site-packages/pandas/core/strings/accessor.py:190\u001b[0m, in \u001b[0;36mStringMethods.__init__\u001b[0;34m(self, data)\u001b[0m\n\u001b[1;32m    187\u001b[0m \u001b[38;5;28;01mdef\u001b[39;00m \u001b[38;5;21m__init__\u001b[39m(\u001b[38;5;28mself\u001b[39m, data) \u001b[38;5;241m-\u001b[39m\u001b[38;5;241m>\u001b[39m \u001b[38;5;28;01mNone\u001b[39;00m:\n\u001b[1;32m    188\u001b[0m     \u001b[38;5;28;01mfrom\u001b[39;00m \u001b[38;5;21;01mpandas\u001b[39;00m\u001b[38;5;21;01m.\u001b[39;00m\u001b[38;5;21;01mcore\u001b[39;00m\u001b[38;5;21;01m.\u001b[39;00m\u001b[38;5;21;01marrays\u001b[39;00m\u001b[38;5;21;01m.\u001b[39;00m\u001b[38;5;21;01mstring_\u001b[39;00m \u001b[38;5;28;01mimport\u001b[39;00m StringDtype\n\u001b[0;32m--> 190\u001b[0m     \u001b[38;5;28mself\u001b[39m\u001b[38;5;241m.\u001b[39m_inferred_dtype \u001b[38;5;241m=\u001b[39m \u001b[38;5;28;43mself\u001b[39;49m\u001b[38;5;241;43m.\u001b[39;49m\u001b[43m_validate\u001b[49m\u001b[43m(\u001b[49m\u001b[43mdata\u001b[49m\u001b[43m)\u001b[49m\n\u001b[1;32m    191\u001b[0m     \u001b[38;5;28mself\u001b[39m\u001b[38;5;241m.\u001b[39m_is_categorical \u001b[38;5;241m=\u001b[39m \u001b[38;5;28misinstance\u001b[39m(data\u001b[38;5;241m.\u001b[39mdtype, CategoricalDtype)\n\u001b[1;32m    192\u001b[0m     \u001b[38;5;28mself\u001b[39m\u001b[38;5;241m.\u001b[39m_is_string \u001b[38;5;241m=\u001b[39m \u001b[38;5;28misinstance\u001b[39m(data\u001b[38;5;241m.\u001b[39mdtype, StringDtype)\n",
      "File \u001b[0;32m~/Desktop/Dev/laplace_SVN/env/lib/python3.11/site-packages/pandas/core/strings/accessor.py:244\u001b[0m, in \u001b[0;36mStringMethods._validate\u001b[0;34m(data)\u001b[0m\n\u001b[1;32m    241\u001b[0m inferred_dtype \u001b[38;5;241m=\u001b[39m lib\u001b[38;5;241m.\u001b[39minfer_dtype(values, skipna\u001b[38;5;241m=\u001b[39m\u001b[38;5;28;01mTrue\u001b[39;00m)\n\u001b[1;32m    243\u001b[0m \u001b[38;5;28;01mif\u001b[39;00m inferred_dtype \u001b[38;5;129;01mnot\u001b[39;00m \u001b[38;5;129;01min\u001b[39;00m allowed_types:\n\u001b[0;32m--> 244\u001b[0m     \u001b[38;5;28;01mraise\u001b[39;00m \u001b[38;5;167;01mAttributeError\u001b[39;00m(\u001b[38;5;124m\"\u001b[39m\u001b[38;5;124mCan only use .str accessor with string values!\u001b[39m\u001b[38;5;124m\"\u001b[39m)\n\u001b[1;32m    245\u001b[0m \u001b[38;5;28;01mreturn\u001b[39;00m inferred_dtype\n",
      "\u001b[0;31mAttributeError\u001b[0m: Can only use .str accessor with string values!"
     ]
    }
   ],
   "source": [
    "import pandas as pd\n",
    "from scipy.io import arff\n",
    "\n",
    "def convert_arff_to_excel_csv(path, csv_path, excel_path):\n",
    "    # Load the ARFF file\n",
    "    data, meta = arff.loadarff(path)\n",
    "    \n",
    "    # Convert to DataFrame\n",
    "    df = pd.DataFrame(data)\n",
    "    \n",
    "    # Decode byte strings into normal strings (if needed)\n",
    "    str_df = df.select_dtypes([object])\n",
    "    str_df = str_df.stack().str.decode('utf-8').unstack()\n",
    "    for col in str_df:\n",
    "        df[col] = str_df[col]\n",
    "    \n",
    "    # Save to CSV\n",
    "    df.to_csv(csv_path, index=False)\n",
    "    \n",
    "    # Save to Excel\n",
    "    df.to_excel(excel_path, index=False)\n",
    "\n",
    "# Define the paths\n",
    "path = 'data/kni8nm/dataset_2175_kin8nm.arff'\n",
    "csv_path = 'output_dataset.csv'\n",
    "excel_path = 'output_dataset.xls'\n",
    "\n",
    "# Call the function\n",
    "convert_arff_to_excel_csv(path, csv_path, excel_path)"
   ]
  },
  {
   "cell_type": "code",
   "execution_count": 5,
   "metadata": {},
   "outputs": [],
   "source": [
    "def convert_arff_to_excel_csv(path, csv_path, excel_path):\n",
    "    # Load the ARFF file\n",
    "    data, meta = arff.loadarff(path)\n",
    "    \n",
    "    # Convert to DataFrame\n",
    "    df = pd.DataFrame(data)\n",
    "    \n",
    "    # Check and decode byte strings to normal strings (if needed)\n",
    "    for column in df.select_dtypes([object]).columns:\n",
    "        if df[column].apply(lambda x: isinstance(x, bytes)).any():\n",
    "            df[column] = df[column].str.decode('utf-8')\n",
    "    \n",
    "    # Save to CSV\n",
    "    df.to_csv(csv_path, index=False)\n",
    "    \n",
    "    # Save to Excel\n",
    "    df.to_excel(excel_path, index=False)\n",
    "\n",
    "# Define the paths\n",
    "path = 'data/kni8nm/dataset_2175_kin8nm.arff'\n",
    "csv_path = 'data/kni8nm/dataset_2175_kin8nm.csv'\n",
    "excel_path = 'data/kni8nm/dataset_2175_kin8nm.xlsx'\n",
    "\n",
    "convert_arff_to_excel_csv(path, csv_path, excel_path)"
   ]
  },
  {
   "cell_type": "code",
   "execution_count": null,
   "metadata": {},
   "outputs": [],
   "source": []
  },
  {
   "cell_type": "code",
   "execution_count": 7,
   "metadata": {},
   "outputs": [],
   "source": [
    "path = 'data/autompg/auto-mpg.data'"
   ]
  },
  {
   "cell_type": "code",
   "execution_count": 8,
   "metadata": {},
   "outputs": [
    {
     "name": "stdout",
     "output_type": "stream",
     "text": [
      "Data has been converted to Excel and saved at: data/autompg/auto-mpg.xlsx\n"
     ]
    }
   ],
   "source": [
    "# Assuming the .data file is space-separated, and using a custom na_values to handle '?'\n",
    "df = pd.read_csv(path, delim_whitespace=True, na_values='?', \n",
    "                 names=['mpg', 'cylinders', 'displacement', 'horsepower', \n",
    "                        'weight', 'acceleration', 'model year', 'origin', 'car name'])\n",
    "\n",
    "# Handling missing values in 'horsepower'\n",
    "df['horsepower'] = pd.to_numeric(df['horsepower'], errors='coerce')  # Convert to numeric and coerce errors to NaN\n",
    "df['horsepower'].fillna(df['horsepower'].mean(), inplace=True)       # Fill NaNs with the mean of the column\n",
    "\n",
    "# Define the output path for the .xlsx file\n",
    "output_xlsx_path = path.replace('.data', '.xlsx')\n",
    "\n",
    "# Save the dataframe to an Excel file\n",
    "df.to_excel(output_xlsx_path, index=False)\n",
    "\n",
    "print(f\"Data has been converted to Excel and saved at: {output_xlsx_path}\")"
   ]
  },
  {
   "cell_type": "code",
   "execution_count": 10,
   "metadata": {},
   "outputs": [
    {
     "name": "stdout",
     "output_type": "stream",
     "text": [
      "Data has been read from data/naval/data.txt and saved as an Excel file at data/naval/data.xlsx.\n"
     ]
    }
   ],
   "source": [
    "# Define the path to your 'data.txt' file\n",
    "txt_file_path = 'data/naval/data.txt'\n",
    "\n",
    "# Define the path where you want the .xlsx file to be saved\n",
    "xlsx_file_path = 'data/naval/data.xlsx'\n",
    "\n",
    "# Assuming the data is space-separated and there are 18 columns as per the 'Features.txt' content\n",
    "column_names = [\n",
    "    'Lever position (lp)', 'Ship speed (v) [knots]', 'Gas Turbine shaft torque (GTT) [kN m]',\n",
    "    'Gas Turbine rate of revolutions (GTn) [rpm]', 'Gas Generator rate of revolutions (GGn) [rpm]',\n",
    "    'Starboard Propeller Torque (Ts) [kN]', 'Port Propeller Torque (Tp) [kN]',\n",
    "    'HP Turbine exit temperature (T48) [C]', 'GT Compressor inlet air temperature (T1) [C]',\n",
    "    'GT Compressor outlet air temperature (T2) [C]', 'HP Turbine exit pressure (P48) [bar]',\n",
    "    'GT Compressor inlet air pressure (P1) [bar]', 'GT Compressor outlet air pressure (P2) [bar]',\n",
    "    'Gas Turbine exhaust gas pressure (Pexh) [bar]', 'Turbine Injecton Control (TIC) [%]',\n",
    "    'Fuel flow (mf) [kg/s]', 'GT Compressor decay state coefficient',\n",
    "    'GT Turbine decay state coefficient'\n",
    "]\n",
    "\n",
    "# Read the .txt file\n",
    "df = pd.read_csv(txt_file_path, delim_whitespace=True, names=column_names, header=None)\n",
    "\n",
    "# Save the DataFrame to an Excel file\n",
    "df.to_excel(xlsx_file_path, index=False)\n",
    "\n",
    "print(f'Data has been read from {txt_file_path} and saved as an Excel file at {xlsx_file_path}.')"
   ]
  },
  {
   "cell_type": "code",
   "execution_count": 11,
   "metadata": {},
   "outputs": [
    {
     "data": {
      "text/html": [
       "<div>\n",
       "<style scoped>\n",
       "    .dataframe tbody tr th:only-of-type {\n",
       "        vertical-align: middle;\n",
       "    }\n",
       "\n",
       "    .dataframe tbody tr th {\n",
       "        vertical-align: top;\n",
       "    }\n",
       "\n",
       "    .dataframe thead th {\n",
       "        text-align: right;\n",
       "    }\n",
       "</style>\n",
       "<table border=\"1\" class=\"dataframe\">\n",
       "  <thead>\n",
       "    <tr style=\"text-align: right;\">\n",
       "      <th></th>\n",
       "      <th>Lever position (lp)</th>\n",
       "      <th>Ship speed (v) [knots]</th>\n",
       "      <th>Gas Turbine shaft torque (GTT) [kN m]</th>\n",
       "      <th>Gas Turbine rate of revolutions (GTn) [rpm]</th>\n",
       "      <th>Gas Generator rate of revolutions (GGn) [rpm]</th>\n",
       "      <th>Starboard Propeller Torque (Ts) [kN]</th>\n",
       "      <th>Port Propeller Torque (Tp) [kN]</th>\n",
       "      <th>HP Turbine exit temperature (T48) [C]</th>\n",
       "      <th>GT Compressor inlet air temperature (T1) [C]</th>\n",
       "      <th>GT Compressor outlet air temperature (T2) [C]</th>\n",
       "      <th>HP Turbine exit pressure (P48) [bar]</th>\n",
       "      <th>GT Compressor inlet air pressure (P1) [bar]</th>\n",
       "      <th>GT Compressor outlet air pressure (P2) [bar]</th>\n",
       "      <th>Gas Turbine exhaust gas pressure (Pexh) [bar]</th>\n",
       "      <th>Turbine Injecton Control (TIC) [%]</th>\n",
       "      <th>Fuel flow (mf) [kg/s]</th>\n",
       "      <th>GT Compressor decay state coefficient</th>\n",
       "      <th>GT Turbine decay state coefficient</th>\n",
       "    </tr>\n",
       "  </thead>\n",
       "  <tbody>\n",
       "    <tr>\n",
       "      <th>0</th>\n",
       "      <td>1.138</td>\n",
       "      <td>3.0</td>\n",
       "      <td>289.964</td>\n",
       "      <td>1349.489</td>\n",
       "      <td>6677.380</td>\n",
       "      <td>7.584</td>\n",
       "      <td>7.584</td>\n",
       "      <td>464.006</td>\n",
       "      <td>288.0</td>\n",
       "      <td>550.563</td>\n",
       "      <td>1.096</td>\n",
       "      <td>0.998</td>\n",
       "      <td>5.947</td>\n",
       "      <td>1.019</td>\n",
       "      <td>7.137</td>\n",
       "      <td>0.082</td>\n",
       "      <td>0.95</td>\n",
       "      <td>0.975</td>\n",
       "    </tr>\n",
       "    <tr>\n",
       "      <th>1</th>\n",
       "      <td>2.088</td>\n",
       "      <td>6.0</td>\n",
       "      <td>6960.180</td>\n",
       "      <td>1376.166</td>\n",
       "      <td>6828.469</td>\n",
       "      <td>28.204</td>\n",
       "      <td>28.204</td>\n",
       "      <td>635.401</td>\n",
       "      <td>288.0</td>\n",
       "      <td>581.658</td>\n",
       "      <td>1.331</td>\n",
       "      <td>0.998</td>\n",
       "      <td>7.282</td>\n",
       "      <td>1.019</td>\n",
       "      <td>10.655</td>\n",
       "      <td>0.287</td>\n",
       "      <td>0.95</td>\n",
       "      <td>0.975</td>\n",
       "    </tr>\n",
       "    <tr>\n",
       "      <th>2</th>\n",
       "      <td>3.144</td>\n",
       "      <td>9.0</td>\n",
       "      <td>8379.229</td>\n",
       "      <td>1386.757</td>\n",
       "      <td>7111.811</td>\n",
       "      <td>60.358</td>\n",
       "      <td>60.358</td>\n",
       "      <td>606.002</td>\n",
       "      <td>288.0</td>\n",
       "      <td>587.587</td>\n",
       "      <td>1.389</td>\n",
       "      <td>0.998</td>\n",
       "      <td>7.574</td>\n",
       "      <td>1.020</td>\n",
       "      <td>13.086</td>\n",
       "      <td>0.259</td>\n",
       "      <td>0.95</td>\n",
       "      <td>0.975</td>\n",
       "    </tr>\n",
       "    <tr>\n",
       "      <th>3</th>\n",
       "      <td>4.161</td>\n",
       "      <td>12.0</td>\n",
       "      <td>14724.395</td>\n",
       "      <td>1547.465</td>\n",
       "      <td>7792.630</td>\n",
       "      <td>113.774</td>\n",
       "      <td>113.774</td>\n",
       "      <td>661.471</td>\n",
       "      <td>288.0</td>\n",
       "      <td>613.851</td>\n",
       "      <td>1.658</td>\n",
       "      <td>0.998</td>\n",
       "      <td>9.007</td>\n",
       "      <td>1.022</td>\n",
       "      <td>18.109</td>\n",
       "      <td>0.358</td>\n",
       "      <td>0.95</td>\n",
       "      <td>0.975</td>\n",
       "    </tr>\n",
       "    <tr>\n",
       "      <th>4</th>\n",
       "      <td>5.140</td>\n",
       "      <td>15.0</td>\n",
       "      <td>21636.432</td>\n",
       "      <td>1924.313</td>\n",
       "      <td>8494.777</td>\n",
       "      <td>175.306</td>\n",
       "      <td>175.306</td>\n",
       "      <td>731.494</td>\n",
       "      <td>288.0</td>\n",
       "      <td>645.642</td>\n",
       "      <td>2.078</td>\n",
       "      <td>0.998</td>\n",
       "      <td>11.197</td>\n",
       "      <td>1.026</td>\n",
       "      <td>26.373</td>\n",
       "      <td>0.522</td>\n",
       "      <td>0.95</td>\n",
       "      <td>0.975</td>\n",
       "    </tr>\n",
       "  </tbody>\n",
       "</table>\n",
       "</div>"
      ],
      "text/plain": [
       "   Lever position (lp)  Ship speed (v) [knots]  \\\n",
       "0                1.138                     3.0   \n",
       "1                2.088                     6.0   \n",
       "2                3.144                     9.0   \n",
       "3                4.161                    12.0   \n",
       "4                5.140                    15.0   \n",
       "\n",
       "   Gas Turbine shaft torque (GTT) [kN m]  \\\n",
       "0                                289.964   \n",
       "1                               6960.180   \n",
       "2                               8379.229   \n",
       "3                              14724.395   \n",
       "4                              21636.432   \n",
       "\n",
       "   Gas Turbine rate of revolutions (GTn) [rpm]  \\\n",
       "0                                     1349.489   \n",
       "1                                     1376.166   \n",
       "2                                     1386.757   \n",
       "3                                     1547.465   \n",
       "4                                     1924.313   \n",
       "\n",
       "   Gas Generator rate of revolutions (GGn) [rpm]  \\\n",
       "0                                       6677.380   \n",
       "1                                       6828.469   \n",
       "2                                       7111.811   \n",
       "3                                       7792.630   \n",
       "4                                       8494.777   \n",
       "\n",
       "   Starboard Propeller Torque (Ts) [kN]  Port Propeller Torque (Tp) [kN]  \\\n",
       "0                                 7.584                            7.584   \n",
       "1                                28.204                           28.204   \n",
       "2                                60.358                           60.358   \n",
       "3                               113.774                          113.774   \n",
       "4                               175.306                          175.306   \n",
       "\n",
       "   HP Turbine exit temperature (T48) [C]  \\\n",
       "0                                464.006   \n",
       "1                                635.401   \n",
       "2                                606.002   \n",
       "3                                661.471   \n",
       "4                                731.494   \n",
       "\n",
       "   GT Compressor inlet air temperature (T1) [C]  \\\n",
       "0                                         288.0   \n",
       "1                                         288.0   \n",
       "2                                         288.0   \n",
       "3                                         288.0   \n",
       "4                                         288.0   \n",
       "\n",
       "   GT Compressor outlet air temperature (T2) [C]  \\\n",
       "0                                        550.563   \n",
       "1                                        581.658   \n",
       "2                                        587.587   \n",
       "3                                        613.851   \n",
       "4                                        645.642   \n",
       "\n",
       "   HP Turbine exit pressure (P48) [bar]  \\\n",
       "0                                 1.096   \n",
       "1                                 1.331   \n",
       "2                                 1.389   \n",
       "3                                 1.658   \n",
       "4                                 2.078   \n",
       "\n",
       "   GT Compressor inlet air pressure (P1) [bar]  \\\n",
       "0                                        0.998   \n",
       "1                                        0.998   \n",
       "2                                        0.998   \n",
       "3                                        0.998   \n",
       "4                                        0.998   \n",
       "\n",
       "   GT Compressor outlet air pressure (P2) [bar]  \\\n",
       "0                                         5.947   \n",
       "1                                         7.282   \n",
       "2                                         7.574   \n",
       "3                                         9.007   \n",
       "4                                        11.197   \n",
       "\n",
       "   Gas Turbine exhaust gas pressure (Pexh) [bar]  \\\n",
       "0                                          1.019   \n",
       "1                                          1.019   \n",
       "2                                          1.020   \n",
       "3                                          1.022   \n",
       "4                                          1.026   \n",
       "\n",
       "   Turbine Injecton Control (TIC) [%]  Fuel flow (mf) [kg/s]  \\\n",
       "0                               7.137                  0.082   \n",
       "1                              10.655                  0.287   \n",
       "2                              13.086                  0.259   \n",
       "3                              18.109                  0.358   \n",
       "4                              26.373                  0.522   \n",
       "\n",
       "   GT Compressor decay state coefficient  GT Turbine decay state coefficient  \n",
       "0                                   0.95                               0.975  \n",
       "1                                   0.95                               0.975  \n",
       "2                                   0.95                               0.975  \n",
       "3                                   0.95                               0.975  \n",
       "4                                   0.95                               0.975  "
      ]
     },
     "execution_count": 11,
     "metadata": {},
     "output_type": "execute_result"
    }
   ],
   "source": [
    "df.head()"
   ]
  },
  {
   "cell_type": "code",
   "execution_count": 1,
   "metadata": {},
   "outputs": [],
   "source": [
    "path = 'data/parkinsons/parkinsons.data'"
   ]
  },
  {
   "cell_type": "code",
   "execution_count": 7,
   "metadata": {},
   "outputs": [
    {
     "name": "stdout",
     "output_type": "stream",
     "text": [
      "Data has been converted to Excel and saved at: data/parkinsons/parkinsons.xlsx\n"
     ]
    }
   ],
   "source": [
    "import pandas as pd\n",
    "# Assuming the .data file is comma-separated and using a custom na_values to handle '?'\n",
    "df = pd.read_csv(path, sep=',', na_values='?', \n",
    "                 names=['subject#', 'age', 'sex', 'test_time', 'motor_UPDRS', \n",
    "                        'total_UPDRS', 'Jitter(%)', 'Jitter(Abs)', 'Jitter:RAP', \n",
    "                        'Jitter:PPQ5', 'Jitter:DDP', 'Shimmer', 'Shimmer(dB)', \n",
    "                        'Shimmer:APQ3', 'Shimmer:APQ5', 'Shimmer:APQ11', \n",
    "                        'Shimmer:DDA', 'NHR', 'HNR', 'RPDE', 'DFA', 'PPE', 'status'])\n",
    "\n",
    "# Reordering the columns so that the target variable is the first variable\n",
    "cols = list(df.columns)\n",
    "cols = ['status'] + [col for col in cols if col != 'status']\n",
    "df = df[cols]\n",
    "\n",
    "# No missing values handling is shown in your request, but you can handle them similarly to the provided code\n",
    "\n",
    "# Define the output path for the .xlsx file\n",
    "output_xlsx_path = \"data/parkinsons/parkinsons.xlsx\"\n",
    "\n",
    "# Save the dataframe to an Excel file\n",
    "df.to_excel(output_xlsx_path, index=False)\n",
    "\n",
    "print(f\"Data has been converted to Excel and saved at: {output_xlsx_path}\")"
   ]
  }
 ],
 "metadata": {
  "kernelspec": {
   "display_name": "env",
   "language": "python",
   "name": "python3"
  },
  "language_info": {
   "codemirror_mode": {
    "name": "ipython",
    "version": 3
   },
   "file_extension": ".py",
   "mimetype": "text/x-python",
   "name": "python",
   "nbconvert_exporter": "python",
   "pygments_lexer": "ipython3",
   "version": "3.11.5"
  }
 },
 "nbformat": 4,
 "nbformat_minor": 2
}
